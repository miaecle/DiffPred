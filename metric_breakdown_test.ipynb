{
 "cells": [
  {
   "cell_type": "code",
   "execution_count": 1,
   "id": "b239f81a",
   "metadata": {},
   "outputs": [
    {
     "name": "stderr",
     "output_type": "stream",
     "text": [
      "Matplotlib created a temporary config/cache directory at /tmp/matplotlib-z5ui5tx2 because the default path (/home/zqwu/.cache/matplotlib) is not a writable directory; it is highly recommended to set the MPLCONFIGDIR environment variable to a writable directory, in particular to speed up the import of Matplotlib and to better support multiprocessing.\n"
     ]
    }
   ],
   "source": [
    "import pandas as pd\n",
    "import numpy as np\n",
    "import os\n",
    "import pickle\n",
    "from sklearn.metrics import roc_auc_score, precision_score, recall_score, f1_score, confusion_matrix, r2_score\n",
    "from data_loader import get_identifier\n",
    "import matplotlib.pyplot as plt\n",
    "\n",
    "def read_validation_additional_lines_labels():\n",
    "    df = pd.read_csv('additional_lines_labels.csv', index_col=0, dtype='str')\n",
    "    df.index = [tuple(n.split('_')) for n in df.index]\n",
    "    mapping = {'0': 0.,\n",
    "               '0*': 0.,\n",
    "               '0(0.5)': 0.2,\n",
    "               '0(1)': 0.4,\n",
    "               '0/1': 0.4,\n",
    "               '0(1.5)': 0.6,\n",
    "               '0(1.5/2)': 0.8,\n",
    "               '0(2)': 0.8,\n",
    "               '0(2)*': 0.8,\n",
    "               '1': 1.,\n",
    "               '1*': 1.,\n",
    "               'nan': np.nan,}\n",
    "    for col in df:\n",
    "        values = [mapping[v] if v == v else np.nan for v in df[col]]\n",
    "        df[col] = values\n",
    "    return df\n",
    "\n",
    "\n",
    "def read_other_instrument_line_labels():\n",
    "    df = pd.read_csv('other_instrument_labels.csv', index_col=0)\n",
    "    return df\n",
    "\n",
    "\n",
    "def evaluate_confmat(y_trues, y_preds, soft=True):\n",
    "    conf_mat = np.zeros((6, 4))\n",
    "    for y_true, y_pred in zip(y_trues, y_preds):\n",
    "        label = int(np.round(y_true * 5))\n",
    "        if soft:\n",
    "            conf_mat[label] += y_pred.reshape((4,))\n",
    "        else:\n",
    "            conf_mat[label, np.argmax(y_pred)] += 1\n",
    "    conf_mat = conf_mat / conf_mat.sum(1, keepdims=True)\n",
    "    return conf_mat\n",
    "    \n",
    "\n",
    "def evaluate_binary_metric(y_trues, y_preds, cutoff=1):\n",
    "    _y_preds = y_preds[:, cutoff:].sum(1)\n",
    "    _y_trues = y_trues\n",
    "\n",
    "    s1 = precision_score(_y_trues, _y_preds > 0.5)\n",
    "    s2 = recall_score(_y_trues, _y_preds > 0.5)\n",
    "    s3 = f1_score(_y_trues, _y_preds > 0.5)\n",
    "    s4 = roc_auc_score(_y_trues, _y_preds)\n",
    "    print(\"Prec: %.3f\\tRecall: %.3f\\tF1: %.3f\\tAUC: %.3f\" % (s1, s2, s3, s4))\n",
    "    return s1, s2, s3, s4\n",
    "\n",
    "\n",
    "def boxplot_pred_distri(y_trues, \n",
    "                        y_preds, \n",
    "                        properties, \n",
    "                        cutoff=1,\n",
    "                        boxplot_fig_output='pred_distri.png',\n",
    "                        samplect_fig_output='sample_count.png'):\n",
    "    _y_preds = y_preds[:, cutoff:].sum(1)\n",
    "    _y_trues = y_trues\n",
    "\n",
    "    x_axis = sorted(set(properties))\n",
    "\n",
    "    pred_neg = {i: [] for i in x_axis}\n",
    "    pred_pos = {i: [] for i in x_axis}\n",
    "    for pred, label, prop in zip(_y_preds, _y_trues, properties):\n",
    "        if label == 0:\n",
    "            pred_neg[prop].append(pred)\n",
    "        elif label == 1:\n",
    "            pred_pos[prop].append(pred)\n",
    "        else:\n",
    "            raise ValueError\n",
    "\n",
    "    plt.clf()\n",
    "    fig, ax = plt.subplots(figsize=(7, 3))\n",
    "    red_diamond = dict(markerfacecolor='r', marker='D', markersize=2)\n",
    "    data = [pred_pos[_x] for _x in x_axis]\n",
    "    bplot_pos = ax.boxplot(\n",
    "        data,\n",
    "        notch=True,\n",
    "        vert=True,\n",
    "        patch_artist=True,\n",
    "        positions=np.arange(len(x_axis))+0.11,\n",
    "        flierprops=red_diamond,\n",
    "        widths=0.2,\n",
    "        manage_ticks=False)\n",
    "    blue_diamond = dict(markerfacecolor='b', marker='D', markersize=2)\n",
    "    data = [pred_neg[_x] for _x in x_axis]\n",
    "    bplot_neg = ax.boxplot(\n",
    "        data,\n",
    "        notch=True,\n",
    "        vert=True,\n",
    "        patch_artist=True,\n",
    "        positions=np.arange(len(x_axis))-0.11,\n",
    "        flierprops=blue_diamond,\n",
    "        widths=0.2,\n",
    "        manage_ticks=False)\n",
    "    ax.set_xticks(np.arange(len(x_axis)))\n",
    "    ax.set_xticklabels(x_axis)\n",
    "    ax.set_xlim(-1, len(x_axis))\n",
    "    ax.set_ylim([-0.03, 1.03])\n",
    "    for patch in bplot_pos['boxes']:\n",
    "        patch.set_facecolor('pink')\n",
    "    for patch in bplot_neg['boxes']:\n",
    "        patch.set_facecolor('lightblue')\n",
    "    ax.set_title('Prediction Distribution')\n",
    "    plt.savefig(boxplot_fig_output, dpi=300, bbox_inches='tight')\n",
    "\n",
    "    plt.clf()\n",
    "    fig, ax = plt.subplots(figsize=(7, 1.5))\n",
    "    ax.plot(np.arange(len(x_axis)), [len(pred_pos[_x]) for _x in x_axis], c='pink')\n",
    "    ax.plot(np.arange(len(x_axis)), [len(pred_neg[_x]) for _x in x_axis], c='lightblue')\n",
    "    ax.set_xticks(np.arange(len(x_axis)))\n",
    "    ax.set_xticklabels(x_axis)\n",
    "    ax.set_xlim(-1, len(x_axis))\n",
    "    ax.set_ylim([0, ax.get_ylim()[1]])\n",
    "    plt.savefig(samplect_fig_output, dpi=300, bbox_inches='tight')\n",
    "\n",
    "    \n",
    "def load_cla_pred_as_dict(path):\n",
    "    pred_file = os.path.join(path, 'cla.pkl')\n",
    "    preds = pickle.load(open(pred_file, 'rb'))\n",
    "    pred_dict = dict(zip([get_identifier(n) for n in preds['pred_names']], preds['cla_preds']))\n",
    "    return pred_dict\n"
   ]
  },
  {
   "cell_type": "code",
   "execution_count": null,
   "id": "a8b20f6c",
   "metadata": {},
   "outputs": [],
   "source": []
  },
  {
   "cell_type": "code",
   "execution_count": null,
   "id": "d81f99e6",
   "metadata": {},
   "outputs": [],
   "source": []
  },
  {
   "cell_type": "code",
   "execution_count": 2,
   "id": "c38b73a2",
   "metadata": {},
   "outputs": [],
   "source": [
    "additional_lines = [\n",
    "    'pred_save/additional_lines/line_477/ex0/',\n",
    "    'pred_save/additional_lines/line_202/ex0/',\n",
    "    'pred_save/additional_lines/line_20/ex0/',\n",
    "    'pred_save/additional_lines/line_100/ex3/',\n",
    "    'pred_save/additional_lines/line_142/ex1/',\n",
    "    'pred_save/additional_lines/line_273/ex2/',\n",
    "    'pred_save/additional_lines/line_839/ex1/',\n",
    "    'pred_save/additional_lines/line_480/ex0/',\n",
    "    'pred_save/additional_lines/line_854/ex0/',\n",
    "    'pred_save/additional_lines/line_975/ex0/',\n",
    "]\n",
    "\n",
    "pred_file_names = [\n",
    "    'ex-valid-pred-to-18',\n",
    "    'ex-test-pred-to-17',\n",
    "    'ex-test-pred-to-18',\n",
    "]\n",
    "\n",
    "label_df = read_validation_additional_lines_labels()\n",
    "label_cutoff = 0.5\n",
    "pred_cutoff = 2\n",
    "exclude_ambiguous = False"
   ]
  },
  {
   "cell_type": "code",
   "execution_count": 3,
   "id": "cfafe662",
   "metadata": {},
   "outputs": [
    {
     "name": "stdout",
     "output_type": "stream",
     "text": [
      "line 477, pos rate 0.50\n",
      "Prec: 0.528\tRecall: 0.852\tF1: 0.652\tAUC: 0.649\n",
      "Prec: 0.550\tRecall: 0.807\tF1: 0.654\tAUC: 0.661\n",
      "Prec: 0.828\tRecall: 0.361\tF1: 0.503\tAUC: 0.777\n",
      "Prec: 0.973\tRecall: 0.732\tF1: 0.836\tAUC: 0.967\n",
      "Prec: 0.989\tRecall: 0.847\tF1: 0.913\tAUC: 0.980\n",
      "Prec: 0.996\tRecall: 0.965\tF1: 0.981\tAUC: 0.998\n",
      "Prec: 0.993\tRecall: 0.989\tF1: 0.991\tAUC: 1.000\n",
      "Prec: 0.991\tRecall: 0.998\tF1: 0.995\tAUC: 1.000\n",
      "line 202, pos rate 0.31\n",
      "Prec: 0.422\tRecall: 0.648\tF1: 0.511\tAUC: 0.522\n",
      "Prec: 0.441\tRecall: 0.462\tF1: 0.451\tAUC: 0.635\n",
      "Prec: 0.597\tRecall: 0.612\tF1: 0.604\tAUC: 0.745\n",
      "Prec: 0.972\tRecall: 0.305\tF1: 0.464\tAUC: 0.929\n",
      "Prec: 0.976\tRecall: 0.355\tF1: 0.521\tAUC: 0.955\n",
      "Prec: 0.947\tRecall: 0.213\tF1: 0.348\tAUC: 0.866\n",
      "Prec: 0.840\tRecall: 0.420\tF1: 0.560\tAUC: 0.871\n",
      "Prec: 0.629\tRecall: 0.512\tF1: 0.564\tAUC: 0.786\n",
      "line 20, pos rate 0.88\n",
      "Prec: 0.918\tRecall: 0.753\tF1: 0.827\tAUC: 0.294\n",
      "Prec: 0.943\tRecall: 0.821\tF1: 0.878\tAUC: 0.710\n",
      "Prec: 0.945\tRecall: 0.868\tF1: 0.905\tAUC: 0.799\n",
      "Prec: 0.960\tRecall: 0.752\tF1: 0.844\tAUC: 0.754\n",
      "Prec: 0.961\tRecall: 0.847\tF1: 0.900\tAUC: 0.827\n",
      "Prec: 0.954\tRecall: 0.885\tF1: 0.918\tAUC: 0.835\n",
      "Prec: 0.969\tRecall: 0.825\tF1: 0.891\tAUC: 0.841\n",
      "Prec: 1.000\tRecall: 0.809\tF1: 0.894\tAUC: 0.926\n",
      "line 100, pos rate 0.40\n",
      "Prec: 0.767\tRecall: 0.603\tF1: 0.675\tAUC: 0.855\n",
      "Prec: 0.412\tRecall: 0.599\tF1: 0.488\tAUC: 0.585\n",
      "Prec: 0.394\tRecall: 0.383\tF1: 0.389\tAUC: 0.502\n",
      "Prec: 0.480\tRecall: 0.444\tF1: 0.462\tAUC: 0.552\n",
      "Prec: 0.813\tRecall: 0.526\tF1: 0.639\tAUC: 0.707\n",
      "Prec: 0.547\tRecall: 0.406\tF1: 0.466\tAUC: 0.615\n",
      "Prec: 0.877\tRecall: 0.438\tF1: 0.584\tAUC: 0.833\n",
      "Prec: 0.791\tRecall: 0.413\tF1: 0.542\tAUC: 0.811\n",
      "line 142, pos rate 0.33\n",
      "Prec: 0.647\tRecall: 0.764\tF1: 0.701\tAUC: 0.738\n",
      "Prec: 0.689\tRecall: 0.842\tF1: 0.758\tAUC: 0.802\n",
      "Prec: 0.868\tRecall: 0.766\tF1: 0.814\tAUC: 0.904\n",
      "Prec: 0.958\tRecall: 0.674\tF1: 0.791\tAUC: 0.954\n",
      "Prec: 0.954\tRecall: 0.565\tF1: 0.710\tAUC: 0.936\n",
      "Prec: 0.970\tRecall: 0.519\tF1: 0.676\tAUC: 0.965\n",
      "Prec: 0.985\tRecall: 0.546\tF1: 0.703\tAUC: 0.936\n",
      "Prec: 0.855\tRecall: 0.595\tF1: 0.702\tAUC: 0.867\n",
      "line 273, pos rate 0.46\n",
      "Prec: 0.597\tRecall: 0.775\tF1: 0.675\tAUC: 0.623\n",
      "Prec: 0.634\tRecall: 0.842\tF1: 0.724\tAUC: 0.672\n",
      "Prec: 0.696\tRecall: 0.903\tF1: 0.786\tAUC: 0.802\n",
      "Prec: 0.766\tRecall: 0.951\tF1: 0.849\tAUC: 0.853\n",
      "Prec: 0.808\tRecall: 0.886\tF1: 0.845\tAUC: 0.875\n",
      "Prec: 0.888\tRecall: 0.671\tF1: 0.764\tAUC: 0.911\n",
      "Prec: 0.882\tRecall: 0.799\tF1: 0.839\tAUC: 0.930\n",
      "Prec: 0.924\tRecall: 0.836\tF1: 0.878\tAUC: 0.955\n",
      "line 839, pos rate 0.29\n",
      "Prec: 0.404\tRecall: 0.814\tF1: 0.540\tAUC: 0.748\n",
      "Prec: 0.654\tRecall: 0.782\tF1: 0.712\tAUC: 0.888\n",
      "Prec: 0.841\tRecall: 0.474\tF1: 0.607\tAUC: 0.891\n",
      "Prec: 0.869\tRecall: 0.551\tF1: 0.675\tAUC: 0.923\n",
      "Prec: 0.947\tRecall: 0.808\tF1: 0.872\tAUC: 0.966\n",
      "Prec: 0.948\tRecall: 0.885\tF1: 0.915\tAUC: 0.976\n",
      "Prec: 0.962\tRecall: 0.897\tF1: 0.929\tAUC: 0.990\n",
      "line 480, pos rate 0.62\n",
      "Prec: 0.630\tRecall: 0.790\tF1: 0.701\tAUC: 0.550\n",
      "Prec: 0.793\tRecall: 0.698\tF1: 0.743\tAUC: 0.767\n",
      "Prec: 0.824\tRecall: 0.664\tF1: 0.735\tAUC: 0.807\n",
      "Prec: 0.896\tRecall: 0.749\tF1: 0.816\tAUC: 0.891\n",
      "Prec: 0.929\tRecall: 0.764\tF1: 0.838\tAUC: 0.911\n",
      "Prec: 0.920\tRecall: 0.806\tF1: 0.859\tAUC: 0.925\n",
      "Prec: 0.914\tRecall: 0.902\tF1: 0.908\tAUC: 0.911\n",
      "Prec: 0.884\tRecall: 0.949\tF1: 0.915\tAUC: 0.897\n",
      "line 854, pos rate 0.59\n",
      "Prec: 0.745\tRecall: 0.833\tF1: 0.786\tAUC: 0.788\n",
      "Prec: 0.810\tRecall: 0.843\tF1: 0.826\tAUC: 0.855\n",
      "Prec: 0.759\tRecall: 0.558\tF1: 0.643\tAUC: 0.715\n",
      "Prec: 0.864\tRecall: 0.498\tF1: 0.632\tAUC: 0.741\n",
      "Prec: 0.881\tRecall: 0.445\tF1: 0.592\tAUC: 0.786\n",
      "Prec: 0.855\tRecall: 0.581\tF1: 0.692\tAUC: 0.835\n",
      "Prec: 0.880\tRecall: 0.641\tF1: 0.741\tAUC: 0.888\n",
      "Prec: 0.903\tRecall: 0.862\tF1: 0.882\tAUC: 0.923\n",
      "line 975, pos rate 0.72\n",
      "Prec: 0.865\tRecall: 0.696\tF1: 0.771\tAUC: 0.784\n",
      "Prec: 0.879\tRecall: 0.733\tF1: 0.799\tAUC: 0.819\n",
      "Prec: 0.911\tRecall: 0.685\tF1: 0.782\tAUC: 0.831\n",
      "Prec: 0.962\tRecall: 0.649\tF1: 0.776\tAUC: 0.863\n",
      "Prec: 0.984\tRecall: 0.641\tF1: 0.776\tAUC: 0.865\n",
      "Prec: 0.968\tRecall: 0.795\tF1: 0.873\tAUC: 0.931\n",
      "Prec: 0.952\tRecall: 0.848\tF1: 0.897\tAUC: 0.923\n",
      "Prec: 0.953\tRecall: 0.880\tF1: 0.915\tAUC: 0.950\n"
     ]
    }
   ],
   "source": [
    "roc_auc_curves = {}\n",
    "pred_val_df = {}\n",
    "for line in additional_lines:\n",
    "    line_name = get_identifier(line)[0].split('_')[1]\n",
    "    label_dict = dict(zip(label_df.index, label_df[line_name]))\n",
    "    \n",
    "    pred_val_df = pd.DataFrame({'label': label_df[line_name]})\n",
    "    pred_val_df.index = label_df.index\n",
    "\n",
    "    pos_rate = (np.array(list(label_dict.values())) > label_cutoff).mean()\n",
    "    if pos_rate == 0. or pos_rate == 1.:\n",
    "        continue\n",
    "    \n",
    "    pred_dicts = [load_cla_pred_as_dict(os.path.join(line, pred_file_name)) for pred_file_name in pred_file_names]\n",
    "    \n",
    "    print(\"line %s, pos rate %.2f\" % (line_name, pos_rate))\n",
    "    curve = {}\n",
    "    for day in np.arange(4, 12):\n",
    "        _pred_dicts = [{k[-2:]: v for k, v in pd.items() if int(k[2]) == day} for pd in pred_dicts]\n",
    "        shared_keys = sorted(set(_pred_dicts[0].keys()) & set(label_dict.keys()))\n",
    "        shared_keys = [k for k in shared_keys if label_dict[k] == label_dict[k]]\n",
    "        if exclude_ambiguous:\n",
    "            shared_keys = [k for k in shared_keys if np.round(label_dict[k]) == label_dict[k]]\n",
    "        if len(shared_keys) > 100:\n",
    "            y_trues = np.array([label_dict[k] for k in shared_keys]) > label_cutoff\n",
    "            y_preds = np.stack([np.stack([pd[k] for k in shared_keys], 0) for pd in _pred_dicts], 0).mean(0)\n",
    "            res = evaluate_binary_metric(y_trues, y_preds, cutoff=pred_cutoff)\n",
    "            curve[int(day)] = res[-1]\n",
    "            pred_val_df['D%d_pred' % day] = [np.mean([pd[k][pred_cutoff:].sum() for pd in _pred_dicts]) if k in _pred_dicts[0] else np.nan for k in label_df.index]\n",
    "    \n",
    "    pred_val_df.to_csv('pred_save/additional_lines/%s_preds.csv' % line_name)\n",
    "    roc_auc_curves[line_name] = curve\n",
    "    "
   ]
  },
  {
   "cell_type": "code",
   "execution_count": 4,
   "id": "abdaffc6",
   "metadata": {},
   "outputs": [
    {
     "name": "stdout",
     "output_type": "stream",
     "text": [
      "['ex-valid-pred-to-18', 'ex-test-pred-to-17', 'ex-test-pred-to-18']\n",
      "Prec: 0.655\tRecall: 0.757\tF1: 0.702\tAUC: 0.686\n",
      "Prec: 0.699\tRecall: 0.757\tF1: 0.727\tAUC: 0.748\n",
      "Prec: 0.780\tRecall: 0.664\tF1: 0.717\tAUC: 0.759\n",
      "Prec: 0.865\tRecall: 0.652\tF1: 0.744\tAUC: 0.845\n",
      "Prec: 0.924\tRecall: 0.680\tF1: 0.783\tAUC: 0.891\n",
      "Prec: 0.911\tRecall: 0.710\tF1: 0.798\tAUC: 0.902\n",
      "Prec: 0.933\tRecall: 0.760\tF1: 0.838\tAUC: 0.929\n",
      "Prec: 0.916\tRecall: 0.805\tF1: 0.857\tAUC: 0.930\n"
     ]
    }
   ],
   "source": [
    "print(pred_file_names)\n",
    "pred_dicts = {line: [load_cla_pred_as_dict(os.path.join(line, pred_file_name)) for pred_file_name in pred_file_names] \\\n",
    "              for line in additional_lines}\n",
    "comb_curve = {}\n",
    "conf_mats = {}\n",
    "all_preds = []\n",
    "all_trues = []\n",
    "all_days = []\n",
    "for day in np.arange(4, 12):\n",
    "    y_preds = []\n",
    "    y_trues = []\n",
    "    for line in additional_lines:\n",
    "        line_name = get_identifier(line)[0].split('_')[1]\n",
    "        label_dict = dict(zip(label_df.index, label_df[line_name]))\n",
    "\n",
    "        pds = pred_dicts[line]\n",
    "        _pds = [{k[-2:]: v for k, v in pd.items() if int(k[2]) == day} for pd in pds]\n",
    "        shared_keys = sorted(set(_pds[0].keys()) & set(label_dict.keys()))\n",
    "        shared_keys = [k for k in shared_keys if label_dict[k] == label_dict[k]]\n",
    "        if len(shared_keys) > 100:\n",
    "            y_trues.append(np.array([label_dict[k] for k in shared_keys]))\n",
    "            y_preds.append(np.stack([np.stack([d[k] for k in shared_keys], 0) for d in _pds], 0).mean(0))\n",
    "    y_trues = np.concatenate(y_trues)\n",
    "    y_preds = np.concatenate(y_preds)\n",
    "\n",
    "    all_trues.append(y_trues)\n",
    "    all_preds.append(y_preds)\n",
    "    all_days.extend([day] * len(y_trues))\n",
    "\n",
    "    conf_mats[day] = evaluate_confmat(y_trues, y_preds, soft=False)\n",
    "    comb_curve[day] = evaluate_binary_metric(y_trues > label_cutoff, y_preds, cutoff=pred_cutoff)[-1]"
   ]
  },
  {
   "cell_type": "code",
   "execution_count": 5,
   "id": "c296615a",
   "metadata": {},
   "outputs": [
    {
     "data": {
      "text/plain": [
       "<Figure size 432x288 with 0 Axes>"
      ]
     },
     "metadata": {},
     "output_type": "display_data"
    },
    {
     "data": {
      "image/png": "[encoded data removed]",
      "text/plain": [
       "<Figure size 360x288 with 1 Axes>"
      ]
     },
     "metadata": {
      "needs_background": "light"
     },
     "output_type": "display_data"
    }
   ],
   "source": [
    "plt.clf()\n",
    "plt.figure(figsize=(5, 4))\n",
    "for line, curve in roc_auc_curves.items():\n",
    "    x = sorted(curve.keys())\n",
    "    y = [curve[_x] for _x in x]\n",
    "    plt.plot(x, y, '.-', label=line)\n",
    "plt.legend()\n",
    "plt.ylim(0.4, 1.0)\n",
    "plt.xlabel(\"Pred from (day)\")\n",
    "plt.ylabel(\"roc-auc\")\n",
    "#plt.show()\n",
    "plt.savefig(\"pred_save/additional_lines/roc_auc_curves.png\", dpi=300, bbox_inches='tight')\n"
   ]
  },
  {
   "cell_type": "code",
   "execution_count": 6,
   "id": "4d99fde8",
   "metadata": {},
   "outputs": [
    {
     "data": {
      "text/plain": [
       "<Figure size 360x288 with 0 Axes>"
      ]
     },
     "metadata": {},
     "output_type": "display_data"
    },
    {
     "data": {
      "image/png": "[encoded data removed]",
      "text/plain": [
       "<Figure size 360x288 with 1 Axes>"
      ]
     },
     "metadata": {
      "needs_background": "light"
     },
     "output_type": "display_data"
    }
   ],
   "source": [
    "scores_by_day = {}\n",
    "plt.figure(figsize=(5, 4))\n",
    "for line, curve in roc_auc_curves.items():\n",
    "    x = sorted(curve.keys())\n",
    "    for _x in x:\n",
    "        if not _x in scores_by_day:\n",
    "            scores_by_day[_x] = []\n",
    "        scores_by_day[_x].append(curve[_x])\n",
    "plt.clf()\n",
    "plt.figure(figsize=(5, 4))\n",
    "plt.boxplot([scores_by_day[x] for x in np.arange(4, 12)], positions=np.arange(4, 12))\n",
    "plt.ylim(0.4, 1.0)\n",
    "plt.xlabel(\"Pred from (day)\")\n",
    "plt.ylabel(\"roc-auc\")\n",
    "\n",
    "plt.plot(np.arange(4, 12), [comb_curve[i] for i in np.arange(4, 12)], '.-', label='all lines combined')\n",
    "plt.ylim(0.4, 1.0)\n",
    "plt.legend()\n",
    "#plt.show()\n",
    "plt.savefig(\"pred_save/additional_lines/roc_auc_box.png\", dpi=300, bbox_inches='tight')"
   ]
  },
  {
   "cell_type": "code",
   "execution_count": null,
   "id": "6b3098f7",
   "metadata": {},
   "outputs": [],
   "source": [
    "for day in np.arange(4, 12):\n",
    "    conf_mat = conf_mats[day]\n",
    "    plt.clf()\n",
    "    plt.imshow(conf_mats[day], cmap='viridis', vmin=0., vmax=0.6)\n",
    "    for i, row in enumerate(conf_mat):\n",
    "        for j, val in enumerate(row):\n",
    "            plt.text(j, i,\"%.2f\" % val,ha='center', va='center')\n",
    "    plt.yticks([0, 1, 2, 3, 4, 5], ['0', '0(0.5)', '0(1)', '0(1.5)', '0(2)', '1'])\n",
    "    plt.title(\"Confusion matrix (Day %d)\" % day)\n",
    "    plt.savefig(\"pred_save/additional_lines/conf_mat_day%d.png\" % day, dpi=300, bbox_inches='tight')"
   ]
  },
  {
   "cell_type": "code",
   "execution_count": null,
   "id": "79c612c8",
   "metadata": {},
   "outputs": [],
   "source": [
    "boxplot_pred_distri(np.concatenate(all_trues) > 0.5, \n",
    "                    np.concatenate(all_preds, 0), \n",
    "                    all_days,\n",
    "                    cutoff=2,\n",
    "                    boxplot_fig_output='pred_save/additional_lines/pred_distri.png',\n",
    "                    samplect_fig_output='pred_save/additional_lines/sample_count.png')"
   ]
  },
  {
   "cell_type": "code",
   "execution_count": null,
   "id": "d82ac668",
   "metadata": {},
   "outputs": [],
   "source": []
  },
  {
   "cell_type": "code",
   "execution_count": null,
   "id": "49a3cb2d",
   "metadata": {},
   "outputs": [],
   "source": []
  },
  {
   "cell_type": "code",
   "execution_count": 11,
   "id": "790b3454",
   "metadata": {},
   "outputs": [
    {
     "name": "stdout",
     "output_type": "stream",
     "text": [
      "Prec: 0.800\tRecall: 0.291\tF1: 0.427\tAUC: 0.747\n",
      "Prec: 0.878\tRecall: 0.655\tF1: 0.750\tAUC: 0.823\n",
      "Prec: 0.872\tRecall: 0.745\tF1: 0.804\tAUC: 0.838\n",
      "Prec: 0.918\tRecall: 0.818\tF1: 0.865\tAUC: 0.868\n",
      "Prec: 0.927\tRecall: 0.927\tF1: 0.927\tAUC: 0.895\n",
      "Prec: 0.944\tRecall: 0.927\tF1: 0.936\tAUC: 0.954\n",
      "Prec: 0.945\tRecall: 0.945\tF1: 0.945\tAUC: 0.968\n",
      "Prec: 0.927\tRecall: 0.927\tF1: 0.927\tAUC: 0.945\n",
      "Prec: 0.893\tRecall: 0.909\tF1: 0.901\tAUC: 0.911\n"
     ]
    },
    {
     "data": {
      "text/plain": [
       "<Figure size 432x288 with 0 Axes>"
      ]
     },
     "metadata": {},
     "output_type": "display_data"
    },
    {
     "data": {
      "text/plain": [
       "<Figure size 360x288 with 0 Axes>"
      ]
     },
     "metadata": {},
     "output_type": "display_data"
    },
    {
     "data": {
      "text/plain": [
       "<Figure size 504x216 with 0 Axes>"
      ]
     },
     "metadata": {},
     "output_type": "display_data"
    },
    {
     "data": {
      "image/png": "[encoded data removed]",
      "text/plain": [
       "<Figure size 504x108 with 1 Axes>"
      ]
     },
     "metadata": {
      "needs_background": "light"
     },
     "output_type": "display_data"
    }
   ],
   "source": [
    "label_df = read_other_instrument_line_labels()\n",
    "label_dict = dict(zip(label_df.index, label_df['Final Label']))\n",
    "\n",
    "line = 'pred_save/other_instrument/ex2_other_instrument/'\n",
    "pred_file_names = [\n",
    "    'ex-valid-pred-to-18',\n",
    "    'ex-test-pred-to-17',\n",
    "    'ex-test-pred-to-18',\n",
    "]\n",
    "\n",
    "pred_cutoff = 2\n",
    "pred_dicts = [load_cla_pred_as_dict(os.path.join(line, pred_file_name)) for pred_file_name in pred_file_names]\n",
    "\n",
    "curve = {}\n",
    "pred_val_df = pd.DataFrame({'label': label_df['Final Label']})\n",
    "pred_val_df.index = label_df.index\n",
    "\n",
    "all_trues = []\n",
    "all_preds = []\n",
    "all_days = []\n",
    "for day in np.arange(4, 13):\n",
    "    \n",
    "    _pds = [{k[-2]: v for k, v in pd.items() if int(k[2]) == day} for pd in pred_dicts]\n",
    "    shared_keys = sorted(set(_pds[0].keys()) & set(label_dict.keys()))\n",
    "    shared_keys = [k for k in shared_keys if label_dict[k] == label_dict[k]]\n",
    "    \n",
    "    y_trues = np.array([label_dict[k] for k in shared_keys])\n",
    "    y_preds = np.stack([np.stack([d[k] for k in shared_keys], 0) for d in _pds], 0).mean(0)\n",
    "    curve[day] = evaluate_binary_metric(y_trues, y_preds, cutoff=pred_cutoff)[-1]\n",
    "    pred_val_df['D%d_pred' % day] = \\\n",
    "        [np.mean([d[k][pred_cutoff:].sum() for d in _pds]) if k in _pds[0] else np.nan for k in label_df.index]\n",
    "    \n",
    "    all_trues.append(y_trues)\n",
    "    all_preds.append(y_preds)\n",
    "    all_days.extend([day] * len(y_trues))\n",
    "\n",
    "pred_val_df.to_csv('pred_save/other_instrument/preds.csv')\n",
    "\n",
    "x = np.arange(4, 13)\n",
    "y = [curve[_x] for _x in x]\n",
    "plt.clf()\n",
    "plt.figure(figsize=(5, 4))\n",
    "plt.plot(x, y, '.-')\n",
    "plt.ylim(0.4, 1.0)\n",
    "plt.xlabel(\"Pred from (day)\")\n",
    "plt.ylabel(\"roc-auc\")\n",
    "plt.savefig('pred_save/other_instrument/roc_auc_curve.png', dpi=300, bbox_inches='tight')\n",
    "\n",
    "boxplot_pred_distri(np.concatenate(all_trues), \n",
    "                    np.concatenate(all_preds, 0), \n",
    "                    all_days,\n",
    "                    cutoff=pred_cutoff,\n",
    "                    boxplot_fig_output='pred_save/other_instrument/pred_distri.png',\n",
    "                    samplect_fig_output='pred_save/other_instrument/sample_count.png')"
   ]
  },
  {
   "cell_type": "code",
   "execution_count": null,
   "id": "d24b575a",
   "metadata": {},
   "outputs": [],
   "source": []
  },
  {
   "cell_type": "code",
   "execution_count": null,
   "id": "039df7ed",
   "metadata": {},
   "outputs": [],
   "source": []
  },
  {
   "cell_type": "code",
   "execution_count": 106,
   "id": "c4bb444e",
   "metadata": {},
   "outputs": [
    {
     "name": "stdout",
     "output_type": "stream",
     "text": [
      "Prec: 0.781\tRecall: 0.155\tF1: 0.259\tAUC: 0.672\n",
      "Prec: 0.774\tRecall: 0.298\tF1: 0.430\tAUC: 0.761\n",
      "Prec: 0.885\tRecall: 0.429\tF1: 0.577\tAUC: 0.855\n",
      "Prec: 0.741\tRecall: 0.373\tF1: 0.496\tAUC: 0.790\n",
      "Prec: 0.829\tRecall: 0.571\tF1: 0.676\tAUC: 0.864\n",
      "Prec: 0.824\tRecall: 0.640\tF1: 0.720\tAUC: 0.889\n",
      "Prec: 0.768\tRecall: 0.739\tF1: 0.753\tAUC: 0.889\n",
      "Prec: 0.812\tRecall: 0.776\tF1: 0.794\tAUC: 0.929\n",
      "Prec: 0.706\tRecall: 0.820\tF1: 0.759\tAUC: 0.903\n"
     ]
    },
    {
     "data": {
      "text/plain": [
       "<Figure size 432x288 with 0 Axes>"
      ]
     },
     "metadata": {},
     "output_type": "display_data"
    },
    {
     "data": {
      "text/plain": [
       "<Figure size 360x288 with 0 Axes>"
      ]
     },
     "metadata": {},
     "output_type": "display_data"
    },
    {
     "data": {
      "text/plain": [
       "<Figure size 504x216 with 0 Axes>"
      ]
     },
     "metadata": {},
     "output_type": "display_data"
    },
    {
     "data": {
      "image/png": "[encoded data removed]",
      "text/plain": [
       "<Figure size 504x108 with 1 Axes>"
      ]
     },
     "metadata": {
      "needs_background": "light"
     },
     "output_type": "display_data"
    }
   ],
   "source": [
    "line = 'pred_save/prospective/ex2_prospective/'\n",
    "pred_file_names = [\n",
    "    'ex-valid-pred-to-18',\n",
    "    'ex-test-pred-to-17',\n",
    "    'ex-test-pred-to-18',\n",
    "]\n",
    "\n",
    "label_dict = pickle.load(open('pred_save/prospective/labels.pkl', 'rb'))\n",
    "label_dict = {k: v[0] for k, v in label_dict.items() if v[1] > 0}\n",
    "\n",
    "pred_cutoff = 2\n",
    "pred_dicts = [load_cla_pred_as_dict(os.path.join(line, pred_file_name)) for pred_file_name in pred_file_names]\n",
    "\n",
    "curve = {}\n",
    "pred_val_df = pd.DataFrame({'label': [label_dict[k][pred_cutoff:].sum() for k in sorted(label_dict.keys())]})\n",
    "pred_val_df.index = sorted(label_dict.keys())\n",
    "\n",
    "all_trues = []\n",
    "all_preds = []\n",
    "all_days = []\n",
    "for day in np.arange(4, 13):\n",
    "    \n",
    "    _pds = [{k[-2:]: v for k, v in pd.items() if int(k[2]) == day} for pd in pred_dicts]\n",
    "    \n",
    "    shared_keys = sorted(set(_pds[0].keys()) & set(label_dict.keys()))\n",
    "    #shared_keys = [k for k in shared_keys if k[1] == '5']\n",
    "    \n",
    "    if len(shared_keys) > 10:\n",
    "        y_trues = np.array([label_dict[k][pred_cutoff:].sum() > 0.5 for k in shared_keys])\n",
    "        y_preds = np.stack([np.stack([d[k] for k in shared_keys], 0) for d in _pds], 0).mean(0)\n",
    "        curve[day] = evaluate_binary_metric(y_trues, y_preds, cutoff=pred_cutoff)[-1]\n",
    "        pred_val_df['D%d_pred' % day] = \\\n",
    "            [np.mean([d[k][pred_cutoff:].sum() for d in _pds]) if k in _pds[0] else np.nan for k in pred_val_df.index]\n",
    "    \n",
    "        all_trues.append(y_trues)\n",
    "        all_preds.append(y_preds)\n",
    "        all_days.extend([day] * len(y_trues))\n",
    "\n",
    "pred_val_df.to_csv('pred_save/prospective/preds.csv')\n",
    "\n",
    "x = sorted(curve.keys())\n",
    "y = [curve[_x] for _x in x]\n",
    "plt.clf()\n",
    "plt.figure(figsize=(5, 4))\n",
    "plt.plot(x, y, '.-')\n",
    "plt.ylim(0.4, 1.0)\n",
    "plt.xlabel(\"Pred from (day)\")\n",
    "plt.ylabel(\"roc-auc\")\n",
    "plt.savefig('pred_save/prospective/roc_auc_curve.png', dpi=300, bbox_inches='tight')\n",
    "\n",
    "boxplot_pred_distri(np.concatenate(all_trues), \n",
    "                    np.concatenate(all_preds, 0), \n",
    "                    all_days,\n",
    "                    cutoff=pred_cutoff,\n",
    "                    boxplot_fig_output='pred_save/prospective/pred_distri.png',\n",
    "                    samplect_fig_output='pred_save/prospective/sample_count.png')"
   ]
  },
  {
   "cell_type": "code",
   "execution_count": null,
   "id": "ef391f20",
   "metadata": {},
   "outputs": [],
   "source": []
  },
  {
   "cell_type": "code",
   "execution_count": null,
   "id": "335d4155",
   "metadata": {},
   "outputs": [],
   "source": []
  },
  {
   "cell_type": "code",
   "execution_count": null,
   "id": "44af41d4",
   "metadata": {},
   "outputs": [],
   "source": []
  },
  {
   "cell_type": "code",
   "execution_count": null,
   "id": "915da588",
   "metadata": {},
   "outputs": [],
   "source": []
  },
  {
   "cell_type": "code",
   "execution_count": null,
   "id": "c7a588a6",
   "metadata": {},
   "outputs": [],
   "source": []
  },
  {
   "cell_type": "code",
   "execution_count": null,
   "id": "fec918ff",
   "metadata": {},
   "outputs": [],
   "source": []
  },
  {
   "cell_type": "code",
   "execution_count": 2,
   "id": "6e45a809",
   "metadata": {},
   "outputs": [
    {
     "name": "stdout",
     "output_type": "stream",
     "text": [
      "Segmentation Models: using `tf.keras` framework.\n"
     ]
    }
   ],
   "source": [
    "import os\n",
    "os.environ['KERAS_BACKEND'] = 'tensorflow'\n",
    "os.environ['SM_FRAMEWORK'] = 'tf.keras'\n",
    "import pickle\n",
    "import numpy as np\n",
    "import scipy\n",
    "import tifffile\n",
    "import matplotlib.pyplot as plt\n",
    "from scipy.stats import spearmanr, pearsonr\n",
    "from sklearn.metrics import roc_auc_score, precision_score, recall_score, f1_score, confusion_matrix, r2_score\n",
    "\n",
    "from data_loader import get_identifier, get_ex_day\n",
    "from models import Segment, ClassifyOnSegment\n",
    "from layers import load_partial_weights, fill_first_layer, evaluate_confusion_mat, summarize_conf_mat\n",
    "from data_generator import CustomGenerator, PairGenerator, enhance_weight_for_false_positives\n",
    "\n",
    "def get_day(n):\n",
    "    return int(get_identifier(n)[2])\n",
    "\n",
    "def plot_seg_pearsonr(rs_seg_preds, rs_seg_trues, properties, fig_output='seg_pearsonr.png'):\n",
    "\n",
    "    props = np.array(properties)\n",
    "    x_axis = sorted(set(properties))\n",
    "\n",
    "    prs = []\n",
    "    for _x in x_axis:\n",
    "        _preds = rs_seg_preds[np.where(props == _x)]\n",
    "        _trues = rs_seg_trues[np.where(props == _x)]\n",
    "        prs.append(pearsonr(_preds, _trues)[0])\n",
    "\n",
    "    plt.clf()\n",
    "    fig, ax = plt.subplots(figsize=(7, 3))\n",
    "    ax.plot(np.arange(len(x_axis)), prs, '.-')\n",
    "    ax.set_xticks(np.arange(len(x_axis)))\n",
    "    ax.set_xticklabels(x_axis)\n",
    "    plt.savefig(fig_output, dpi=300, bbox_inches='tight')\n",
    "\n",
    "\n",
    "def boxplot_seg_pearsonr_distri(prs, \n",
    "                                properties,\n",
    "                                boxplot_fig_output='seg_pearsonr_distri.png',\n",
    "                                samplect_fig_output='seg_sample_count.png'):\n",
    "\n",
    "    x_axis = sorted(set(properties))\n",
    "\n",
    "    prs_by_x = {_x: [] for _x in x_axis}\n",
    "    for pr, prop in zip(prs, properties):\n",
    "        if pr == pr:\n",
    "            prs_by_x[prop].append(pr)\n",
    "\n",
    "    plt.clf()\n",
    "    fig, ax = plt.subplots(figsize=(7, 3))\n",
    "    red_diamond = dict(markerfacecolor='r', marker='D', markersize=2)\n",
    "    data = [prs_by_x[_x] for _x in x_axis]\n",
    "    bplot = ax.boxplot(\n",
    "        data,\n",
    "        notch=True,\n",
    "        vert=True,\n",
    "        patch_artist=True,\n",
    "        positions=np.arange(len(x_axis)),\n",
    "        flierprops=red_diamond,\n",
    "        widths=0.2,\n",
    "        manage_ticks=False)\n",
    "    ax.set_xticks(np.arange(len(x_axis)))\n",
    "    ax.set_xticklabels(x_axis)\n",
    "    ax.set_xlim(-1, len(x_axis))\n",
    "    plt.savefig(boxplot_fig_output, dpi=300, bbox_inches='tight')\n",
    "\n",
    "    plt.clf()\n",
    "    fig, ax = plt.subplots(figsize=(7, 1.5))\n",
    "    ax.plot(np.arange(len(x_axis)), [len(prs_by_x[_x]) for _x in x_axis], c='pink')\n",
    "    ax.set_xticks(np.arange(len(x_axis)))\n",
    "    ax.set_xticklabels(x_axis)\n",
    "    ax.set_xlim(-1, len(x_axis))\n",
    "    ax.set_ylim([0, ax.get_ylim()[1]])\n",
    "    plt.savefig(samplect_fig_output, dpi=300, bbox_inches='tight')\n",
    "\n",
    "\n",
    "def get_ind(name, gen):\n",
    "    for k in gen.names:\n",
    "        if gen.names[k] == name:\n",
    "            return k\n",
    "    return None"
   ]
  },
  {
   "cell_type": "code",
   "execution_count": null,
   "id": "5bd21569",
   "metadata": {},
   "outputs": [],
   "source": [
    "root = '/oak/stanford/groups/jamesz/zqwu/iPSC_data/VALIDATION/line_combined-for-seg/ex2-14/0-to-0'\n",
    "# root = '/oak/stanford/groups/jamesz/zqwu/iPSC_data/TRAIN/0-to-0_continuous/l1ex7_valid'\n",
    "\n",
    "name_file = os.path.join(root, \"names.pkl\")\n",
    "X_ct = len([f for f in os.listdir(root) if f.startswith('X_')])\n",
    "X_files = [os.path.join(root, \"X_%d.pkl\" % i) for i in range(X_ct)]\n",
    "\n",
    "segment_y_files = [os.path.join(root, \"segment_continuous_y_%d.pkl\" % i) for i in range(X_ct)]\n",
    "segment_w_files = [os.path.join(root, \"segment_continuous_w_%d.pkl\" % i) for i in range(X_ct)]\n",
    "classify_label_file = os.path.join(root, \"classify_continuous_labels.pkl\")\n",
    "valid_gen = CustomGenerator(\n",
    "    name_file,\n",
    "    X_files, \n",
    "    segment_y_files=segment_y_files, \n",
    "    segment_w_files=segment_w_files,\n",
    "    n_segment_classes=4,\n",
    "    segment_class_weights=[1, 1, 1, 1],\n",
    "    segment_label_type='continuous',\n",
    "    classify_label_file=classify_label_file,\n",
    "    n_classify_classes=4,\n",
    "    classify_class_weights=[1, 1, 1, 1],\n",
    "    classify_label_type='continuous')"
   ]
  },
  {
   "cell_type": "code",
   "execution_count": 120,
   "id": "d7f4d505",
   "metadata": {},
   "outputs": [
    {
     "name": "stderr",
     "output_type": "stream",
     "text": [
      "/home/zqwu/anaconda3/lib/python3.8/site-packages/scipy/stats/stats.py:3913: PearsonRConstantInputWarning: An input array is constant; the correlation coefficent is not defined.\n",
      "  warnings.warn(PearsonRConstantInputWarning())\n"
     ]
    },
    {
     "data": {
      "text/plain": [
       "<Figure size 432x288 with 0 Axes>"
      ]
     },
     "metadata": {},
     "output_type": "display_data"
    },
    {
     "data": {
      "text/plain": [
       "<Figure size 504x216 with 0 Axes>"
      ]
     },
     "metadata": {},
     "output_type": "display_data"
    },
    {
     "data": {
      "text/plain": [
       "<Figure size 504x108 with 0 Axes>"
      ]
     },
     "metadata": {},
     "output_type": "display_data"
    },
    {
     "data": {
      "image/png": "[encoded data removed]",
      "text/plain": [
       "<Figure size 504x216 with 1 Axes>"
      ]
     },
     "metadata": {
      "needs_background": "light"
     },
     "output_type": "display_data"
    }
   ],
   "source": [
    "pred_root = '/oak/stanford/groups/jamesz/zqwu/iPSC_data/VALIDATION/line_combined-for-seg/ex2-14/ex-valid-pred-to-0'\n",
    "# pred_root = '/oak/stanford/groups/jamesz/zqwu/iPSC_data/VALIDATION/line1_3R/ex7_0-to-0_test/weights.21-to-0'\n",
    "\n",
    "rs_seg_preds = []\n",
    "rs_seg_trues = []\n",
    "rs_days = []\n",
    "\n",
    "pearsonrs = []\n",
    "days = []\n",
    "day14_samples = []\n",
    "\n",
    "fs = [f for f in os.listdir(pred_root) if f.startswith('seg_') and f.endswith('.pkl')]\n",
    "for f in sorted(fs, key=lambda x: int(x.split('_')[1].split('.')[0])):\n",
    "    dat = pickle.load(open(os.path.join(pred_root, f), 'rb'))\n",
    "    seg_preds = dat['seg_preds']\n",
    "    seg_trues = dat['seg_trues']\n",
    "    seg_ws = dat['seg_ws']\n",
    "    pred_names = dat['pred_names']\n",
    "    for i, (s_pred, name) in enumerate(zip(seg_preds, pred_names)):\n",
    "\n",
    "        name = name[0] if isinstance(name, tuple) else name\n",
    "        day = get_day(name)\n",
    "        ind = get_ind(name, valid_gen)\n",
    "        \n",
    "        X, y, w, name = valid_gen.load_ind(ind)\n",
    "        if y is None or w is None:\n",
    "            continue\n",
    "        s_true = y[..., 1] + y[..., 2] * 2 + y[..., 3] * 3\n",
    "        s_w = w[..., 0]\n",
    "        \n",
    "#         s_true = seg_trues[i]\n",
    "#         s_w = seg_ws[i]\n",
    "\n",
    "        if s_w.sum() == 0:\n",
    "            continue\n",
    "\n",
    "        _s_pred = s_pred[s_w > 0]\n",
    "        _s_true = s_true[s_w > 0]\n",
    "        pr = pearsonr(_s_pred, _s_true)[0]\n",
    "        pearsonrs.append(pr)\n",
    "        days.append(day)\n",
    "\n",
    "        rs_inds = np.random.choice(np.arange(_s_pred.shape[0]), (2000,), replace=False)\n",
    "        rs_seg_preds.append(_s_pred[rs_inds])\n",
    "        rs_seg_trues.append(_s_true[rs_inds])\n",
    "        rs_days.extend([day] * len(rs_inds))\n",
    "\n",
    "        if day == 14:\n",
    "            day14_samples.append((s_pred, s_true, s_w, name))\n",
    "\n",
    "days = np.array(days)\n",
    "pearsonrs = np.array(pearsonrs)\n",
    "median_by_days = []\n",
    "for d in range(10, 18):\n",
    "    median_by_days.append(np.nanmedian(pearsonrs[np.where(days == d)]))\n",
    "print(median_by_days)\n",
    "\n",
    "boxplot_seg_pearsonr_distri(\n",
    "    pearsonrs, \n",
    "    days, \n",
    "    boxplot_fig_output='_seg_pearsonr_distri.png', \n",
    "    samplect_fig_output='_seg_sample_count.png')\n",
    "rs_seg_preds = np.concatenate(rs_seg_preds)\n",
    "rs_seg_trues = np.concatenate(rs_seg_trues)\n",
    "plot_seg_pearsonr(\n",
    "    rs_seg_preds,\n",
    "    rs_seg_trues,\n",
    "    rs_days, \n",
    "    fig_output='_seg_pearsonr.png')"
   ]
  },
  {
   "cell_type": "code",
   "execution_count": null,
   "id": "6c376810",
   "metadata": {},
   "outputs": [],
   "source": [
    "original_root = '/oak/stanford/groups/jamesz/zqwu/iPSC_data/RAW/line_combined-for-seg/ex2-14/210901_183215_az96well_stain2D14_D14/210901_183215_Plate 1'\n",
    "# original_root = '/oak/stanford/groups/jamesz/zqwu/iPSC_data/RAW/line1_3R/ex7_new/200711_002706_az96well_D14_gfp_ESC_plate3/200711_002706_Plate 1'\n",
    "original_fl_files = os.listdir(original_root)\n",
    "original_fl_files = [os.path.join(original_root, f) for f in original_fl_files]\n",
    "\n",
    "for ct, pair in enumerate(day14_samples):\n",
    "    print(ct)\n",
    "    y_pred, y_true, w, name = pair\n",
    "    _y_pred = y_pred[w > 0]\n",
    "    _y_true = y_true[w > 0]\n",
    "    pr = pearsonr(_y_pred, _y_true)[0]\n",
    "    \n",
    "    fl_file = [f for f in original_fl_files if get_identifier(f) == get_identifier(name) and 'GFP' in f]\n",
    "    \n",
    "    original_pc = tifffile.imread(name)\n",
    "    original_fl = tifffile.imread(fl_file[0])\n",
    "    \n",
    "    plt.clf()\n",
    "    plt.figure(figsize=(12, 9))\n",
    "    plt.subplot(2, 2, 1)\n",
    "    plt.imshow(original_pc)\n",
    "    plt.title('Phase Contrast')\n",
    "    plt.axis('off')\n",
    "    \n",
    "    plt.subplot(2, 2, 2)\n",
    "    plt.imshow(original_fl)\n",
    "    plt.title('Fluorescence (raw)')\n",
    "    plt.axis('off')\n",
    "    \n",
    "    plt.subplot(2, 2, 3)\n",
    "    plt.imshow(y_pred, vmin=0., vmax=3.)\n",
    "    plt.title('Prediction %.2f' % pr)\n",
    "    plt.axis('off')\n",
    "    \n",
    "    plt.subplot(2, 2, 4)\n",
    "    plt.imshow(y_true, vmin=0., vmax=3.)\n",
    "    plt.title('Label')\n",
    "    plt.axis('off')\n",
    "    \n",
    "    fig_name = '-'.join(get_identifier(name))\n",
    "    plt.savefig('l1ex7_samples/%s.png' % fig_name, dpi=300, bbox_inches='tight')\n",
    "    "
   ]
  },
  {
   "cell_type": "code",
   "execution_count": 22,
   "id": "389017cb",
   "metadata": {},
   "outputs": [],
   "source": []
  },
  {
   "cell_type": "code",
   "execution_count": null,
   "id": "5e01a566",
   "metadata": {},
   "outputs": [],
   "source": [
    "line = '/oak/stanford/groups/jamesz/zqwu/iPSC_data/VALIDATION/line_combined-for-seg/ex1-14/'\n",
    "pred_file_names = [\n",
    "    'ex-valid-pred-to-18',\n",
    "    'ex-test-pred-to-17',\n",
    "    'ex-test-pred-to-18',\n",
    "]\n",
    "\n",
    "\n",
    "pred_cutoff = 2\n",
    "pred_dicts = [load_cla_pred_as_dict(os.path.join(line, pred_file_name)) for pred_file_name in pred_file_names]\n",
    "\n",
    "label_dict = {get_identifier(valid_gen.names[k])[-2:]: valid_gen.classify_y[k] \\\n",
    "    for k in valid_gen.names if valid_gen.classify_y[k] is not None and valid_gen.classify_w[k] > 0}\n",
    "\n",
    "\n",
    "\n",
    "curve = {}\n",
    "pred_val_df = pd.DataFrame({'label': [label_dict[k][pred_cutoff:].sum() for k in sorted(label_dict.keys())]})\n",
    "pred_val_df.index = sorted(label_dict.keys())\n",
    "\n",
    "all_trues = []\n",
    "all_preds = []\n",
    "all_days = []\n",
    "for day in np.arange(4, 13):\n",
    "    \n",
    "    _pds = [{k[-2:]: v for k, v in pd.items() if int(k[2]) == day} for pd in pred_dicts]\n",
    "    \n",
    "    shared_keys = sorted(set(_pds[0].keys()) & set(label_dict.keys()))\n",
    "    #shared_keys = [k for k in shared_keys if k[1] == '5']\n",
    "    \n",
    "    if len(shared_keys) > 10:\n",
    "        y_trues = np.array([label_dict[k][pred_cutoff:].sum() > 0.5 for k in shared_keys])\n",
    "        y_preds = np.stack([np.stack([d[k] for k in shared_keys], 0) for d in _pds], 0).mean(0)\n",
    "        curve[day] = evaluate_binary_metric(y_trues, y_preds, cutoff=pred_cutoff)[-1]\n",
    "        pred_val_df['D%d_pred' % day] = \\\n",
    "            [np.mean([d[k][pred_cutoff:].sum() for d in _pds]) if k in _pds[0] else np.nan for k in pred_val_df.index]\n",
    "    \n",
    "        all_trues.append(y_trues)\n",
    "        all_preds.append(y_preds)\n",
    "        all_days.extend([day] * len(y_trues))\n",
    "\n",
    "#pred_val_df.to_csv()\n",
    "\n",
    "# x = sorted(curve.keys())\n",
    "# y = [curve[_x] for _x in x]\n",
    "# plt.clf()\n",
    "# plt.figure(figsize=(5, 4))\n",
    "# plt.plot(x, y, '.-')\n",
    "# plt.ylim(0.4, 1.0)\n",
    "# plt.xlabel(\"Pred from (day)\")\n",
    "# plt.ylabel(\"roc-auc\")\n",
    "# plt.savefig('pred_save/ex2-14/roc_auc_curve.png', dpi=300, bbox_inches='tight')\n",
    "\n",
    "# boxplot_pred_distri(np.concatenate(all_trues), \n",
    "#                     np.concatenate(all_preds, 0), \n",
    "#                     all_days,\n",
    "#                     cutoff=pred_cutoff,\n",
    "#                     boxplot_fig_output='pred_save/ex2-14/pred_distri.png',\n",
    "#                     samplect_fig_output='pred_save/ex2-14/sample_count.png')"
   ]
  },
  {
   "cell_type": "code",
   "execution_count": null,
   "id": "d4823c1d",
   "metadata": {},
   "outputs": [],
   "source": []
  },
  {
   "cell_type": "code",
   "execution_count": null,
   "id": "bdd55f68",
   "metadata": {},
   "outputs": [],
   "source": []
  },
  {
   "cell_type": "code",
   "execution_count": null,
   "id": "c093c5e3",
   "metadata": {},
   "outputs": [],
   "source": []
  },
  {
   "cell_type": "code",
   "execution_count": null,
   "id": "cd7bbc59",
   "metadata": {},
   "outputs": [],
   "source": []
  },
  {
   "cell_type": "code",
   "execution_count": null,
   "id": "c3170b44",
   "metadata": {},
   "outputs": [],
   "source": []
  },
  {
   "cell_type": "code",
   "execution_count": 118,
   "id": "7825c812",
   "metadata": {},
   "outputs": [
    {
     "name": "stdout",
     "output_type": "stream",
     "text": [
      "pred-to-0-weights.34\n",
      "8\t171\t171\t0.082\t0.968\n",
      "9\t211\t211\t0.114\t0.913\n",
      "10\t0\t0\tnan\tnan\n",
      "11\t445\t445\t0.155\t0.899\n",
      "12\t460\t460\t0.237\t0.847\n",
      "13\t474\t474\t0.276\t0.889\n",
      "14\t477\t477\t0.279\t0.881\n",
      "15\t331\t331\t0.486\t0.788\n"
     ]
    },
    {
     "name": "stderr",
     "output_type": "stream",
     "text": [
      "/home/zqwu/anaconda3/lib/python3.8/site-packages/numpy/core/fromnumeric.py:3419: RuntimeWarning: Mean of empty slice.\n",
      "  return _methods._mean(a, axis=axis, dtype=dtype,\n",
      "/home/zqwu/anaconda3/lib/python3.8/site-packages/numpy/core/_methods.py:188: RuntimeWarning: invalid value encountered in double_scalars\n",
      "  ret = ret.dtype.type(ret / rcount)\n"
     ]
    }
   ],
   "source": [
    "line = 'pred_save/prospective/ex2_prospective/'\n",
    "pred_file_names = ['pred-to-0-weights.34']\n",
    "pred_cutoff = 2\n",
    "\n",
    "def load_cla_preds_labels(path, cutoff=2):\n",
    "    preds = pickle.load(open(os.path.join(path, 'cla.pkl'), 'rb'))\n",
    "    pred_dict = dict(zip([get_identifier(n) for n in preds['pred_names']], preds['cla_preds']))\n",
    "    label_dict = dict(zip([get_identifier(n) for n in preds['pred_names']], preds['cla_trues']))\n",
    "    return pred_dict, label_dict\n",
    "\n",
    "for pred_file_name in pred_file_names:\n",
    "    print(pred_file_name)\n",
    "    pred_dict, label_dict = load_cla_preds_labels(os.path.join(line, pred_file_name), cutoff=pred_cutoff)\n",
    "\n",
    "    curve = {}\n",
    "    for day in range(8, 16):\n",
    "        ks = [k for k in pred_dict.keys() if int(k[2]) == day]\n",
    "        #ks = [k for k in ks if k[-1] == '5']\n",
    "        labels = [label_dict[k] for k in ks]\n",
    "        preds = [pred_dict[k] for k in ks]\n",
    "\n",
    "        _labels = [l[2:].sum() > 0.5 for l in labels]\n",
    "        _preds = [p[2:].sum() for p in preds]\n",
    "        auc = roc_auc_score(_labels, _preds) if len(_labels) > 0 else np.nan\n",
    "        print(\"%d\\t%d\\t%d\\t%.3f\\t%.3f\" % (day, len(labels), len(preds), np.mean(_labels), auc))\n",
    "\n"
   ]
  },
  {
   "cell_type": "code",
   "execution_count": null,
   "id": "3eb08bee",
   "metadata": {},
   "outputs": [],
   "source": []
  },
  {
   "cell_type": "code",
   "execution_count": null,
   "id": "c75d2cf1",
   "metadata": {},
   "outputs": [],
   "source": []
  },
  {
   "cell_type": "code",
   "execution_count": null,
   "id": "f6c8128d",
   "metadata": {},
   "outputs": [],
   "source": []
  },
  {
   "cell_type": "code",
   "execution_count": null,
   "id": "ecd5089a",
   "metadata": {},
   "outputs": [],
   "source": []
  },
  {
   "cell_type": "code",
   "execution_count": null,
   "id": "6d5a32cb",
   "metadata": {},
   "outputs": [],
   "source": []
  },
  {
   "cell_type": "code",
   "execution_count": null,
   "id": "9c761b54",
   "metadata": {},
   "outputs": [],
   "source": []
  }
 ],
 "metadata": {
  "kernelspec": {
   "display_name": "Python 3",
   "language": "python",
   "name": "python3"
  },
  "language_info": {
   "codemirror_mode": {
    "name": "ipython",
    "version": 3
   },
   "file_extension": ".py",
   "mimetype": "text/x-python",
   "name": "python",
   "nbconvert_exporter": "python",
   "pygments_lexer": "ipython3",
   "version": "3.8.5"
  }
 },
 "nbformat": 4,
 "nbformat_minor": 5
}
