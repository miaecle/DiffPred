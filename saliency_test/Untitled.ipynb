{
 "cells": [
  {
   "cell_type": "code",
   "execution_count": 1,
   "id": "836929d1",
   "metadata": {},
   "outputs": [
    {
     "name": "stdout",
     "output_type": "stream",
     "text": [
      "C:\\WZQ_stuff\\home\\DiffPred\n"
     ]
    },
    {
     "ename": "ModuleNotFoundError",
     "evalue": "No module named 'segmentation_models'",
     "output_type": "error",
     "traceback": [
      "\u001b[1;31m---------------------------------------------------------------------------\u001b[0m",
      "\u001b[1;31mModuleNotFoundError\u001b[0m                       Traceback (most recent call last)",
      "\u001b[1;32m~\\AppData\\Local\\Temp/ipykernel_8936/1504286337.py\u001b[0m in \u001b[0;36m<module>\u001b[1;34m\u001b[0m\n\u001b[0;32m     11\u001b[0m \u001b[1;33m\u001b[0m\u001b[0m\n\u001b[0;32m     12\u001b[0m \u001b[1;32mfrom\u001b[0m \u001b[0mdata_loader\u001b[0m \u001b[1;32mimport\u001b[0m \u001b[0mget_identifier\u001b[0m\u001b[1;33m\u001b[0m\u001b[1;33m\u001b[0m\u001b[0m\n\u001b[1;32m---> 13\u001b[1;33m \u001b[1;32mfrom\u001b[0m \u001b[0mmodels\u001b[0m \u001b[1;32mimport\u001b[0m \u001b[0mSegment\u001b[0m\u001b[1;33m,\u001b[0m \u001b[0mClassifyOnSegment\u001b[0m\u001b[1;33m\u001b[0m\u001b[1;33m\u001b[0m\u001b[0m\n\u001b[0m\u001b[0;32m     14\u001b[0m \u001b[1;32mfrom\u001b[0m \u001b[0mlayers\u001b[0m \u001b[1;32mimport\u001b[0m \u001b[0mload_partial_weights\u001b[0m\u001b[1;33m,\u001b[0m \u001b[0mfill_first_layer\u001b[0m\u001b[1;33m,\u001b[0m \u001b[0mevaluate_confusion_mat\u001b[0m\u001b[1;33m\u001b[0m\u001b[1;33m\u001b[0m\u001b[0m\n\u001b[0;32m     15\u001b[0m \u001b[1;32mfrom\u001b[0m \u001b[0mdata_generator\u001b[0m \u001b[1;32mimport\u001b[0m \u001b[0mCustomGenerator\u001b[0m\u001b[1;33m,\u001b[0m \u001b[0mPairGenerator\u001b[0m\u001b[1;33m,\u001b[0m \u001b[0menhance_weight_for_false_positives\u001b[0m\u001b[1;33m\u001b[0m\u001b[1;33m\u001b[0m\u001b[0m\n",
      "\u001b[1;32mC:\\WZQ_stuff\\home\\DiffPred\\models.py\u001b[0m in \u001b[0;36m<module>\u001b[1;34m\u001b[0m\n\u001b[0;32m      6\u001b[0m \u001b[1;33m@\u001b[0m\u001b[0mauthor\u001b[0m\u001b[1;33m:\u001b[0m \u001b[0mzqwu\u001b[0m\u001b[1;33m\u001b[0m\u001b[1;33m\u001b[0m\u001b[0m\n\u001b[0;32m      7\u001b[0m \"\"\"\n\u001b[1;32m----> 8\u001b[1;33m \u001b[1;32mimport\u001b[0m \u001b[0msegmentation_models\u001b[0m\u001b[1;33m\u001b[0m\u001b[1;33m\u001b[0m\u001b[0m\n\u001b[0m\u001b[0;32m      9\u001b[0m \u001b[1;32mimport\u001b[0m \u001b[0mclassification_models\u001b[0m\u001b[1;33m\u001b[0m\u001b[1;33m\u001b[0m\u001b[0m\n\u001b[0;32m     10\u001b[0m \u001b[1;32mimport\u001b[0m \u001b[0mtensorflow\u001b[0m \u001b[1;32mas\u001b[0m \u001b[0mtf\u001b[0m\u001b[1;33m\u001b[0m\u001b[1;33m\u001b[0m\u001b[0m\n",
      "\u001b[1;31mModuleNotFoundError\u001b[0m: No module named 'segmentation_models'"
     ]
    }
   ],
   "source": [
    "import os\n",
    "os.chdir('..')\n",
    "print(os.getcwd())\n",
    "os.environ['KERAS_BACKEND'] = 'tensorflow'\n",
    "os.environ['SM_FRAMEWORK'] = 'tf.keras'\n",
    "import pickle\n",
    "import numpy as np\n",
    "from scipy.stats import spearmanr, pearsonr\n",
    "from functools import partial\n",
    "import matplotlib.pyplot as plt\n",
    "\n",
    "from data_loader import get_identifier\n",
    "from models import Segment, ClassifyOnSegment\n",
    "from layers import load_partial_weights, fill_first_layer, evaluate_confusion_mat\n",
    "from data_generator import CustomGenerator, PairGenerator, enhance_weight_for_false_positives\n",
    "from collect_predictions import get_data_gen, get_model, filter_for_inf_predictor, filter_for_0_predictor, augment_fixed_end\n",
    "\n",
    "from keras.models import Model\n"
   ]
  },
  {
   "cell_type": "code",
   "execution_count": null,
   "id": "367cc0a0",
   "metadata": {},
   "outputs": [],
   "source": [
    "# os.chdir('..')\n",
    "print(os.getcwd())"
   ]
  },
  {
   "cell_type": "code",
   "execution_count": null,
   "id": "6a624814",
   "metadata": {},
   "outputs": [],
   "source": []
  }
 ],
 "metadata": {
  "kernelspec": {
   "display_name": "Python 3 (ipykernel)",
   "language": "python",
   "name": "python3"
  },
  "language_info": {
   "codemirror_mode": {
    "name": "ipython",
    "version": 3
   },
   "file_extension": ".py",
   "mimetype": "text/x-python",
   "name": "python",
   "nbconvert_exporter": "python",
   "pygments_lexer": "ipython3",
   "version": "3.8.8"
  }
 },
 "nbformat": 4,
 "nbformat_minor": 5
}
